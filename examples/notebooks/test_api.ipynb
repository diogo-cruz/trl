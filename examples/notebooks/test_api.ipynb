{
 "cells": [
  {
   "cell_type": "code",
   "execution_count": 2,
   "metadata": {},
   "outputs": [],
   "source": [
    "import wandb\n",
    "api = wandb.Api()"
   ]
  },
  {
   "cell_type": "code",
   "execution_count": 3,
   "metadata": {},
   "outputs": [],
   "source": [
    "# Replace 'entity_name', 'project_name', and 'run_id' with appropriate values\n",
    "run = api.run(\"diogocruz/trl/wm1t0tek\")"
   ]
  },
  {
   "cell_type": "code",
   "execution_count": 4,
   "metadata": {},
   "outputs": [
    {
     "name": "stdout",
     "output_type": "stream",
     "text": [
      "_timestamp\n",
      "time/ppo/compute_advantages\n",
      "time/ppo/optimize_step\n",
      "ppo/loss/policy\n",
      "objective/entropy\n",
      "ppo/policy/advantages\n",
      "ppo/policy/policykl\n",
      "tokens/responses_len_mean\n",
      "env/reward_mean\n",
      "time/ppo/forward_pass\n",
      "ppo/val/var\n",
      "ppo/returns/var\n",
      "env/reward_N\n",
      "tokens/queries_len_std\n",
      "tokens/queries_len_mean\n",
      "ppo/val/var_explained\n",
      "ppo/policy/advantages_mean\n",
      "objective/kl_dist\n",
      "objective/ref_logprobs\n",
      "env/reward_dist\n",
      "ppo/learning_rate\n",
      "time/ppo/total\n",
      "ppo/std_scores\n",
      "env/reward_P\n",
      "objective/kl\n",
      "objective/logprobs\n",
      "_step\n",
      "game_log\n",
      "ppo/val/vpred\n",
      "ppo/loss/value\n",
      "ppo/policy/ratio\n",
      "ppo/val/clipfrac\n",
      "ppo/policy/entropy\n",
      "_runtime\n",
      "env/reward_std\n",
      "ppo/loss/total\n",
      "tokens/responses_dist\n",
      "time/ppo/compute_rewards\n",
      "ppo/val/mean\n",
      "ppo/mean_scores\n",
      "ppo/policy/approxkl\n",
      "tokens/responses_len_std\n",
      "objective/kl_coef\n",
      "ppo/policy/clipfrac\n",
      "time/ppo/calc_stats\n",
      "tokens/queries_dist\n",
      "ppo/returns/mean\n",
      "ppo/mean_non_score_reward\n",
      "ppo/val/error\n"
     ]
    }
   ],
   "source": [
    "history = run.history()\n",
    "for data in history:\n",
    "    print(data)"
   ]
  },
  {
   "cell_type": "code",
   "execution_count": null,
   "metadata": {},
   "outputs": [],
   "source": []
  }
 ],
 "metadata": {
  "kernelspec": {
   "display_name": "trl-venv",
   "language": "python",
   "name": "python3"
  },
  "language_info": {
   "codemirror_mode": {
    "name": "ipython",
    "version": 3
   },
   "file_extension": ".py",
   "mimetype": "text/x-python",
   "name": "python",
   "nbconvert_exporter": "python",
   "pygments_lexer": "ipython3",
   "version": "3.8.10"
  },
  "orig_nbformat": 4
 },
 "nbformat": 4,
 "nbformat_minor": 2
}

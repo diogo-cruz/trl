{
 "cells": [
  {
   "attachments": {},
   "cell_type": "markdown",
   "metadata": {},
   "source": [
    "# Tune GPT2 to generate controlled sentiment reviews\n",
    "> Optimise GPT2 to produce IMDB movie reviews with controlled sentiment using a BERT sentiment classifier for rewards.\n",
    "\n",
    "**WARNING:** We often experienced loss spikes in this examples which caused model training to fail or slow down. There is a [GitHub issue](https://github.com/lvwerra/trl/issues/101) to track the issue."
   ]
  },
  {
   "cell_type": "markdown",
   "metadata": {},
   "source": [
    "<div style=\"text-align: center\">\n",
    "<img src='https://huggingface.co/datasets/trl-internal-testing/example-images/resolve/main/images/gpt2-ctrl-training-setup.png' width='600'>\n",
    "<p style=\"text-align: center;\"> <b>Figure:</b> Experiment setup to tune GPT2. The yellow arrows are outside the scope of this notebook, but the trained models are available through Hugging Face. </p>\n",
    "</div>\n",
    "\n",
    "\n",
    "The experiment setup is very similar to the positive sentiment notebook. However, in this notebook we fine-tune GPT2 (small) to generate **controlled** movie reviews based on the IMDB dataset. The model gets the target sentiment and 5 tokens from a real review and is tasked to produce continuations with the targeted sentiment. The reward for the continuations is calculated with the logits of a BERT sentiment classifier. That reward is then used for PPO training."
   ]
  },
  {
   "cell_type": "markdown",
   "metadata": {},
   "source": [
    "## Setup experiment"
   ]
  },
  {
   "cell_type": "markdown",
   "metadata": {},
   "source": [
    "### Import dependencies"
   ]
  },
  {
   "cell_type": "code",
   "execution_count": 1,
   "metadata": {},
   "outputs": [],
   "source": [
    "%load_ext autoreload\n",
    "%autoreload 2"
   ]
  },
  {
   "cell_type": "code",
   "execution_count": 2,
   "metadata": {},
   "outputs": [
    {
     "name": "stderr",
     "output_type": "stream",
     "text": [
      "/home/diogo/ASH_code/trl-venv/lib/python3.8/site-packages/tqdm/auto.py:21: TqdmWarning: IProgress not found. Please update jupyter and ipywidgets. See https://ipywidgets.readthedocs.io/en/stable/user_install.html\n",
      "  from .autonotebook import tqdm as notebook_tqdm\n"
     ]
    }
   ],
   "source": [
    "import random\n",
    "import torch\n",
    "import wandb\n",
    "import time\n",
    "import os\n",
    "from tqdm import tqdm\n",
    "import numpy as np\n",
    "import pandas as pd\n",
    "from random import choices\n",
    "import matplotlib.pyplot as plt\n",
    "import warnings\n",
    "from pathlib import Path\n",
    "from datasets import Dataset\n",
    "import warnings\n",
    "\n",
    "tqdm.pandas()\n",
    "\n",
    "from datasets import load_dataset\n",
    "from transformers import AutoTokenizer, pipeline\n",
    "from trl import PPOTrainer, PPOConfig, AutoModelForCausalLMWithValueHead, create_reference_model"
   ]
  },
  {
   "cell_type": "markdown",
   "metadata": {},
   "source": [
    "### Configuration"
   ]
  },
  {
   "cell_type": "code",
   "execution_count": 3,
   "metadata": {},
   "outputs": [
    {
     "name": "stderr",
     "output_type": "stream",
     "text": [
      "fatal: No names found, cannot describe anything.\n"
     ]
    }
   ],
   "source": [
    "sentiment_pipe_kwargs = {\"top_k\": None, \"function_to_apply\": \"none\"}\n",
    "\n",
    "config = PPOConfig(\n",
    "    model_name=\"lvwerra/gpt2-imdb\", steps=51200, learning_rate=1.41e-5, remove_unused_columns=False, log_with=\"wandb\"\n",
    ")\n",
    "\n",
    "# config = PPOConfig(\n",
    "#     model_name=\"gpt2-large\", steps=51200, learning_rate=1.41e-5, remove_unused_columns=False, log_with=\"wandb\"\n",
    "# )\n",
    "\n",
    "txt_in_len = 8\n",
    "txt_out_len = 24\n",
    "seed = 1\n",
    "np.random.seed(seed)"
   ]
  },
  {
   "cell_type": "markdown",
   "metadata": {},
   "source": [
    "You can see that we load a GPT2 model called `gpt2_imdb`. This model was additionally fine-tuned on the IMDB dataset for 1 epoch with the huggingface [script](https://github.com/huggingface/transformers/blob/master/examples/run_language_modeling.py) (no special settings). The other parameters are mostly taken from the original paper [\"Fine-Tuning Language Models from Human Preferences\"](\n",
    "https://arxiv.org/pdf/1909.08593.pdf). This model as well as the BERT model is available in the Huggingface model zoo [here](https://huggingface.co/models). The following code should automatically download the models."
   ]
  },
  {
   "cell_type": "markdown",
   "metadata": {},
   "source": [
    "## Load data and models"
   ]
  },
  {
   "cell_type": "markdown",
   "metadata": {},
   "source": [
    "### Load pre-trained GPT2 language models"
   ]
  },
  {
   "cell_type": "markdown",
   "metadata": {},
   "source": [
    "We load the GPT2 model with a value head and the tokenizer. We load the model twice; the first model is optimized while the second model serves as a reference to calculate the KL-divergence from the starting point. This serves as an additional reward signal in the PPO training to make sure the optimized model does not deviate too much from the original language model."
   ]
  },
  {
   "cell_type": "code",
   "execution_count": 4,
   "metadata": {},
   "outputs": [],
   "source": [
    "gpt2_model = AutoModelForCausalLMWithValueHead.from_pretrained(config.model_name)\n",
    "gpt2_model_ref = create_reference_model(gpt2_model)\n",
    "gpt2_tokenizer = AutoTokenizer.from_pretrained(config.model_name)\n",
    "gpt2_tokenizer.pad_token = gpt2_tokenizer.eos_token"
   ]
  },
  {
   "cell_type": "markdown",
   "metadata": {},
   "source": [
    "### Load IMDB dataset\n",
    "The IMDB dataset contains 50k movie review annotated with \"positive\"/\"negative\" feedback indicating the sentiment.  We load the IMDB dataset into a DataFrame and filter for comments that are at least 500 characters long and take the first 1000 characters of each comment. The first filter we apply to avoid comments that are less than `txt_in_len` token long and the second to avoid tokenizing way more text than we actually need."
   ]
  },
  {
   "cell_type": "code",
   "execution_count": 5,
   "metadata": {},
   "outputs": [
    {
     "name": "stderr",
     "output_type": "stream",
     "text": [
      "Downloading data files: 100%|██████████| 1/1 [00:00<00:00, 11949.58it/s]\n",
      "Extracting data files: 100%|██████████| 1/1 [00:00<00:00, 1236.16it/s]\n",
      "Generating train split: 90000 examples [00:00, 634549.85 examples/s]\n",
      "Map: 100%|██████████| 90000/90000 [00:04<00:00, 22355.06 examples/s]\n"
     ]
    },
    {
     "data": {
      "text/plain": [
       "Dataset({\n",
       "    features: ['review', 'label', 'section'],\n",
       "    num_rows: 90000\n",
       "})"
      ]
     },
     "execution_count": 5,
     "metadata": {},
     "output_type": "execute_result"
    }
   ],
   "source": [
    "toy = 1\n",
    "rate = '0.2'\n",
    "path = os.path.join(Path.home(), \"nlp_data\", f\"imdb_{toy}\")\n",
    "file_dict = {\n",
    "    \"train\" : os.path.join(path,\"finetune_{}_train.tsv\".format(rate))\n",
    "}\n",
    "dataset = load_dataset('csv',\n",
    "                        data_files=file_dict,\n",
    "                        delimiter='\\t'\n",
    "            )\n",
    "dataset = dataset['train']\n",
    "dataset = dataset.map(lambda x: {\"label\": 'P' if x[\"label\"] else 'N'}, batched=False)\n",
    "\n",
    "dataset"
   ]
  },
  {
   "cell_type": "markdown",
   "metadata": {},
   "source": [
    "### Tokenize IMDB reviews"
   ]
  },
  {
   "cell_type": "markdown",
   "metadata": {},
   "source": [
    "We tokenize all IMDB in advance to avoid tokenizing twice. In the first step we encode the queries and slice the first `txt_in_len` tokens. In a second step we decode these tokens back to text for later display."
   ]
  },
  {
   "cell_type": "code",
   "execution_count": 6,
   "metadata": {},
   "outputs": [
    {
     "name": "stderr",
     "output_type": "stream",
     "text": [
      "Map:   1%|          | 1000/90000 [00:00<00:19, 4485.74 examples/s]"
     ]
    },
    {
     "name": "stderr",
     "output_type": "stream",
     "text": [
      "Map: 100%|██████████| 90000/90000 [00:19<00:00, 4623.18 examples/s]\n",
      "Map: 100%|██████████| 90000/90000 [00:11<00:00, 8175.51 examples/s]\n"
     ]
    }
   ],
   "source": [
    "dataset = dataset.map(\n",
    "    lambda x: {\"input_ids\": gpt2_tokenizer.encode(x[\"review\"], return_tensors=\"pt\")[0, :txt_in_len]},\n",
    "    batched=False,\n",
    ")\n",
    "dataset = dataset.map(lambda x: {\"query\": gpt2_tokenizer.decode(x[\"input_ids\"])}, batched=False)\n",
    "dataset = dataset[:20480] # Don't know why this is here\n",
    "\n",
    "dataset = Dataset.from_dict(dataset)\n",
    "dataset.set_format(\"pytorch\")"
   ]
  },
  {
   "cell_type": "code",
   "execution_count": 7,
   "metadata": {},
   "outputs": [
    {
     "data": {
      "text/plain": [
       "tensor([   40,   481,   307,  5508,    11,  1312, 26399,   428])"
      ]
     },
     "execution_count": 7,
     "metadata": {},
     "output_type": "execute_result"
    }
   ],
   "source": [
    "dataset[3][\"input_ids\"]"
   ]
  },
  {
   "cell_type": "code",
   "execution_count": 8,
   "metadata": {},
   "outputs": [],
   "source": [
    "def collator(data):\n",
    "    return dict((key, [d[key] for d in data]) for key in data[0])"
   ]
  },
  {
   "cell_type": "code",
   "execution_count": 9,
   "metadata": {},
   "outputs": [
    {
     "name": "stderr",
     "output_type": "stream",
     "text": [
      "ERROR:wandb.jupyter:Failed to detect the name of this notebook, you can set it manually with the WANDB_NOTEBOOK_NAME environment variable to enable code saving.\n"
     ]
    },
    {
     "name": "stdout",
     "output_type": "stream",
     "text": [
      "huggingface/tokenizers: The current process just got forked, after parallelism has already been used. Disabling parallelism to avoid deadlocks...\n",
      "To disable this warning, you can either:\n",
      "\t- Avoid using `tokenizers` before the fork if possible\n",
      "\t- Explicitly set the environment variable TOKENIZERS_PARALLELISM=(true | false)\n"
     ]
    },
    {
     "name": "stderr",
     "output_type": "stream",
     "text": [
      "\u001b[34m\u001b[1mwandb\u001b[0m: Currently logged in as: \u001b[33mdiogocruz\u001b[0m. Use \u001b[1m`wandb login --relogin`\u001b[0m to force relogin\n"
     ]
    },
    {
     "name": "stdout",
     "output_type": "stream",
     "text": [
      "huggingface/tokenizers: The current process just got forked, after parallelism has already been used. Disabling parallelism to avoid deadlocks...\n",
      "To disable this warning, you can either:\n",
      "\t- Avoid using `tokenizers` before the fork if possible\n",
      "\t- Explicitly set the environment variable TOKENIZERS_PARALLELISM=(true | false)\n",
      "huggingface/tokenizers: The current process just got forked, after parallelism has already been used. Disabling parallelism to avoid deadlocks...\n",
      "To disable this warning, you can either:\n",
      "\t- Avoid using `tokenizers` before the fork if possible\n",
      "\t- Explicitly set the environment variable TOKENIZERS_PARALLELISM=(true | false)\n"
     ]
    },
    {
     "data": {
      "text/html": [
       "Tracking run with wandb version 0.15.10"
      ],
      "text/plain": [
       "<IPython.core.display.HTML object>"
      ]
     },
     "metadata": {},
     "output_type": "display_data"
    },
    {
     "data": {
      "text/html": [
       "Run data is saved locally in <code>/home/diogo/ASH_code/trl/examples/notebooks/wandb/run-20230911_105917-9s619kny</code>"
      ],
      "text/plain": [
       "<IPython.core.display.HTML object>"
      ]
     },
     "metadata": {},
     "output_type": "display_data"
    },
    {
     "data": {
      "text/html": [
       "Syncing run <strong><a href='https://wandb.ai/diogocruz/trl/runs/9s619kny' target=\"_blank\">pretty-fire-17</a></strong> to <a href='https://wandb.ai/diogocruz/trl' target=\"_blank\">Weights & Biases</a> (<a href='https://wandb.me/run' target=\"_blank\">docs</a>)<br/>"
      ],
      "text/plain": [
       "<IPython.core.display.HTML object>"
      ]
     },
     "metadata": {},
     "output_type": "display_data"
    },
    {
     "data": {
      "text/html": [
       " View project at <a href='https://wandb.ai/diogocruz/trl' target=\"_blank\">https://wandb.ai/diogocruz/trl</a>"
      ],
      "text/plain": [
       "<IPython.core.display.HTML object>"
      ]
     },
     "metadata": {},
     "output_type": "display_data"
    },
    {
     "data": {
      "text/html": [
       " View run at <a href='https://wandb.ai/diogocruz/trl/runs/9s619kny' target=\"_blank\">https://wandb.ai/diogocruz/trl/runs/9s619kny</a>"
      ],
      "text/plain": [
       "<IPython.core.display.HTML object>"
      ]
     },
     "metadata": {},
     "output_type": "display_data"
    }
   ],
   "source": [
    "ppo_trainer = PPOTrainer(config, gpt2_model, gpt2_model_ref, gpt2_tokenizer, dataset, data_collator=collator)"
   ]
  },
  {
   "cell_type": "markdown",
   "metadata": {},
   "source": [
    "### Load BERT classifier\n",
    "We load a BERT classifier fine-tuned on the IMDB dataset."
   ]
  },
  {
   "cell_type": "code",
   "execution_count": 10,
   "metadata": {},
   "outputs": [],
   "source": [
    "if ppo_trainer.accelerator.num_processes == 1:\n",
    "    device = 0 if torch.cuda.is_available() else \"cpu\"  # to avoid a `pipeline` bug\n",
    "else:\n",
    "    device = ppo_trainer.accelerator.device\n",
    "sentiment_pipe = pipeline(\"sentiment-analysis\", \"lvwerra/distilbert-imdb\", device=device)\n",
    "# sentiment_pipe = pipeline(\"sentiment-analysis\", \"textattack/xlnet-base-cased-imdb\", device=device)"
   ]
  },
  {
   "cell_type": "markdown",
   "metadata": {},
   "source": [
    "The model outputs are the logits for the negative and positive class. We will use the logits for positive class as a reward signal for the language model."
   ]
  },
  {
   "cell_type": "markdown",
   "metadata": {},
   "source": [
    "The resulting reward signal:"
   ]
  },
  {
   "cell_type": "code",
   "execution_count": 11,
   "metadata": {},
   "outputs": [],
   "source": [
    "def extract_pipe_output(outputs):\n",
    "    positive_logits = []\n",
    "    for out in outputs:\n",
    "        for element in out:\n",
    "            if element[\"label\"] == \"POSITIVE\":\n",
    "                positive_logits.append(torch.tensor(element[\"score\"]))\n",
    "    return positive_logits"
   ]
  },
  {
   "cell_type": "markdown",
   "metadata": {},
   "source": [
    "### Control token dict\n",
    "We will append the control token at the beginning of each query to signal the model what the target sentiment is. Each control sequence consists of three tokens:"
   ]
  },
  {
   "cell_type": "code",
   "execution_count": 12,
   "metadata": {},
   "outputs": [],
   "source": [
    "# ctrl_str = [\"Movie review:\", \"Film review:\"]\n",
    "# device = torch.device(\"cuda\" if torch.cuda.is_available() else \"cpu\")  # this should be handled by accelerate\n",
    "# ctrl_tokens = dict((s, gpt2_tokenizer.encode(s, return_tensors=\"pt\").squeeze().to(device)) for s in ctrl_str)"
   ]
  },
  {
   "cell_type": "code",
   "execution_count": 13,
   "metadata": {},
   "outputs": [],
   "source": [
    "# ctrl_tokens"
   ]
  },
  {
   "cell_type": "markdown",
   "metadata": {},
   "source": [
    "### Reward function"
   ]
  },
  {
   "cell_type": "code",
   "execution_count": 14,
   "metadata": {},
   "outputs": [],
   "source": [
    "def pos_logit_to_reward(logit, task):\n",
    "    \"\"\"\n",
    "    Take the positive sentiment logit and scale it for the task.\n",
    "        task [negative]: reward = -logit\n",
    "        task [neutral]: reward = -2*abs(logit)+4\n",
    "        task [positive]: reward = logit\n",
    "    \"\"\"\n",
    "    for i in range(len(logit)):\n",
    "        if task[i] == 'N':\n",
    "            logit[i] = -logit[i]\n",
    "        # elif task[i] == \"[neutral]\":\n",
    "        #     logit[i] = -2 * torch.abs(logit[i]) + 4\n",
    "        elif task[i] == 'P':\n",
    "            pass\n",
    "        else:\n",
    "            raise ValueError(\"task has to be in [0, 1, 2]!\")\n",
    "    return logit"
   ]
  },
  {
   "cell_type": "markdown",
   "metadata": {},
   "source": [
    "The following examples show the rewards for the cases where the classifier logit is 4, -4 and 0 for the three targets `['negative]`, `['neutral]` and `['positive']`. The scaling is not perfect as it differs between neutral and the other two classes. This is something to further investigate in the future. Ideally, one would use the logit output for each class individually, but since there is no dedicated class for neutral this is a workaround."
   ]
  },
  {
   "cell_type": "markdown",
   "metadata": {},
   "source": [
    "### Generation settings"
   ]
  },
  {
   "cell_type": "code",
   "execution_count": 15,
   "metadata": {},
   "outputs": [],
   "source": [
    "generation_kwargs = {\n",
    "    \"min_length\": -1,\n",
    "    \"top_k\": 0.0,\n",
    "    \"top_p\": 1.0,\n",
    "    \"do_sample\": True,\n",
    "    \"pad_token_id\": gpt2_tokenizer.eos_token_id,\n",
    "    \"max_new_tokens\": txt_out_len,\n",
    "    \"eos_token_id\": -1,\n",
    "}"
   ]
  },
  {
   "cell_type": "markdown",
   "metadata": {},
   "source": [
    "## Optimize model"
   ]
  },
  {
   "cell_type": "markdown",
   "metadata": {},
   "source": [
    "**Steps**\n",
    "\n",
    "The training loop consists of the following steps:\n",
    "1. Get a batch of queries and create random controls\n",
    "2. Get the query responses from the policy\n",
    "3. Join query and responses and tokenize for BERT analysis\n",
    "4. Get sentiments for query/responses from BERT\n",
    "5. Optimize policy with PPO using the (query, response, reward) triplet\n",
    "6. Log all the training statistics\n",
    "\n",
    "**Training time**\n",
    "\n",
    "This step takes **~2h** on a P6000 GPU with the above specified settings."
   ]
  },
  {
   "cell_type": "code",
   "execution_count": 16,
   "metadata": {},
   "outputs": [
    {
     "name": "stderr",
     "output_type": "stream",
     "text": [
      "  0%|          | 0/80 [00:00<?, ?it/s]"
     ]
    },
    {
     "name": "stderr",
     "output_type": "stream",
     "text": [
      "You're using a GPT2TokenizerFast tokenizer. Please note that with a fast tokenizer, using the `__call__` method is faster than using a method to encode the text followed by a call to the `pad` method to get a padded encoding.\n",
      " 38%|███▊      | 30/80 [54:30<1:30:50, 109.01s/it]"
     ]
    }
   ],
   "source": [
    "with warnings.catch_warnings():\n",
    "    warnings.simplefilter(\"ignore\")\n",
    "    for epoch in range(1):\n",
    "        for batch in tqdm(ppo_trainer.dataloader):\n",
    "            (logs, game_data,) = (\n",
    "                dict(),\n",
    "                dict(),\n",
    "            )\n",
    "\n",
    "            #### prepend a random control token\n",
    "            # task_list = choices(ctrl_str, k=config.batch_size)\n",
    "            # game_data[\"query\"] = [t + q for t, q in zip(task_list, batch[\"query\"])]\n",
    "            # query_tensors = [torch.cat((ctrl_tokens[t], input_ids)) for t, input_ids in zip(task_list, batch[\"input_ids\"])]\n",
    "\n",
    "            task_list = batch['label']\n",
    "            game_data[\"query\"] = batch[\"query\"]\n",
    "            query_tensors = batch[\"input_ids\"]\n",
    "\n",
    "            #### get response from gpt2\n",
    "            response_tensors = []\n",
    "            for query in query_tensors:\n",
    "                response = ppo_trainer.generate(query, **generation_kwargs)\n",
    "                response_tensors.append(response.squeeze()[-txt_out_len:])\n",
    "            game_data[\"response\"] = [gpt2_tokenizer.decode(r.squeeze()) for r in response_tensors]\n",
    "\n",
    "            #### sentiment analysis\n",
    "            texts = [q + r for q, r in zip(batch[\"query\"], game_data[\"response\"])]\n",
    "            logits = extract_pipe_output(sentiment_pipe(texts, **sentiment_pipe_kwargs))\n",
    "            rewards = pos_logit_to_reward(logits, task_list)\n",
    "\n",
    "            #### Run PPO training\n",
    "            #t = time.time()\n",
    "            stats = ppo_trainer.step(query_tensors, response_tensors, rewards)\n",
    "\n",
    "            for cs in ['P','N']:\n",
    "                key = \"env/reward_\" + cs\n",
    "                stats[key] = np.mean([r.cpu().numpy() for r, t in zip(rewards, task_list) if t == cs])\n",
    "            ppo_trainer.log_stats(stats, game_data, rewards)"
   ]
  },
  {
   "cell_type": "markdown",
   "metadata": {},
   "source": [
    "### Training progress\n",
    "If you are tracking the training progress with Weights&Biases you should see a plot similar to the following:\n",
    "\n",
    "<div style=\"text-align: center\">\n",
    "<img src='https://huggingface.co/datasets/trl-internal-testing/example-images/resolve/main/images/gpt2-ctrl-training-stats.png' width='800'>\n",
    "<p style=\"text-align: center;\"> <b>Figure:</b> Reward mean and distribution evolution during training. </p>\n",
    "</div>\n",
    "\n",
    "One can observe how the model starts to generate more positive outputs after a few optimisation steps.\n",
    "\n",
    "> Note: Investigating the KL-divergence will probably show that at this point the model has not converged to the target KL-divergence, yet. To get there would require longer training or starting with a higher inital coefficient."
   ]
  },
  {
   "cell_type": "markdown",
   "metadata": {},
   "source": [
    "## Model inspection"
   ]
  },
  {
   "cell_type": "markdown",
   "metadata": {},
   "source": [
    "### Reward distribution\n",
    "First, we can have a look at the reward distribution. Both the negative and positive rewards are clearly shifted to high rewards. The neutral rewards, however, are still centered around zero. There are a few possible explanations for this. There could be a bug in the code and the way the neutral rewards are calculated. Another problem could be that sentence sometimes start with a strong sentiment and it is hard for the model shift the sentiment towards neutral."
   ]
  },
  {
   "cell_type": "markdown",
   "metadata": {},
   "source": [
    "## Save model\n",
    "Finally, we save the model to disk for later usage."
   ]
  },
  {
   "cell_type": "code",
   "execution_count": null,
   "metadata": {},
   "outputs": [
    {
     "data": {
      "text/plain": [
       "('gpt2-sentiment_task4_rate0.5_seed1/tokenizer_config.json',\n",
       " 'gpt2-sentiment_task4_rate0.5_seed1/special_tokens_map.json',\n",
       " 'gpt2-sentiment_task4_rate0.5_seed1/vocab.json',\n",
       " 'gpt2-sentiment_task4_rate0.5_seed1/merges.txt',\n",
       " 'gpt2-sentiment_task4_rate0.5_seed1/added_tokens.json',\n",
       " 'gpt2-sentiment_task4_rate0.5_seed1/tokenizer.json')"
      ]
     },
     "execution_count": 17,
     "metadata": {},
     "output_type": "execute_result"
    }
   ],
   "source": [
    "gpt2_model.save_pretrained(f\"gpt2-sentiment_task{toy}_rate{rate}_seed{seed}\")\n",
    "gpt2_tokenizer.save_pretrained(f\"gpt2-sentiment_task{toy}_rate{rate}_seed{seed}\")"
   ]
  },
  {
   "cell_type": "markdown",
   "metadata": {},
   "source": [
    "# Test Model"
   ]
  },
  {
   "cell_type": "code",
   "execution_count": null,
   "metadata": {},
   "outputs": [],
   "source": [
    "# config = PPOConfig(\n",
    "#     model_name=f\"gpt2-sentiment_task{toy}_rate{rate}_seed{seed}\", steps=51200, learning_rate=1.41e-5, remove_unused_columns=False, log_with=\"wandb\"\n",
    "# )\n",
    "# gpt2_model = AutoModelForCausalLMWithValueHead.from_pretrained(config.model_name)\n",
    "# gpt2_model_ref = create_reference_model(gpt2_model)\n",
    "# gpt2_tokenizer = AutoTokenizer.from_pretrained(config.model_name)\n",
    "# gpt2_tokenizer.pad_token = gpt2_tokenizer.eos_token"
   ]
  },
  {
   "cell_type": "code",
   "execution_count": null,
   "metadata": {},
   "outputs": [
    {
     "name": "stderr",
     "output_type": "stream",
     "text": [
      "Downloading data files: 100%|██████████| 5/5 [00:00<00:00, 15697.25it/s]\n",
      "Extracting data files: 100%|██████████| 5/5 [00:00<00:00, 20.72it/s]\n",
      "Generating test split: 7000 examples [00:00, 457779.22 examples/s]\n",
      "Generating strong split: 1000 examples [00:00, 209788.63 examples/s]\n",
      "Generating weak split: 1000 examples [00:00, 210589.14 examples/s]\n",
      "Generating both split: 2519 examples [00:00, 240808.02 examples/s]\n",
      "Generating neither split: 2481 examples [00:00, 226322.20 examples/s]\n",
      "Map: 100%|██████████| 7000/7000 [00:00<00:00, 19972.50 examples/s]\n",
      "Map: 100%|██████████| 7000/7000 [00:01<00:00, 4316.41 examples/s]\n",
      "Map: 100%|██████████| 7000/7000 [00:00<00:00, 8009.03 examples/s]\n",
      "Map: 100%|██████████| 1000/1000 [00:00<00:00, 17462.22 examples/s]\n",
      "Map: 100%|██████████| 1000/1000 [00:00<00:00, 4432.98 examples/s]\n",
      "Map: 100%|██████████| 1000/1000 [00:00<00:00, 7787.20 examples/s]\n",
      "Map: 100%|██████████| 1000/1000 [00:00<00:00, 18315.58 examples/s]\n",
      "Map: 100%|██████████| 1000/1000 [00:00<00:00, 4574.98 examples/s]\n",
      "Map: 100%|██████████| 1000/1000 [00:00<00:00, 7663.73 examples/s]\n",
      "Map: 100%|██████████| 2519/2519 [00:00<00:00, 17971.63 examples/s]\n",
      "Map: 100%|██████████| 2519/2519 [00:00<00:00, 4612.90 examples/s]\n",
      "Map: 100%|██████████| 2519/2519 [00:00<00:00, 7275.39 examples/s]\n",
      "Map: 100%|██████████| 2481/2481 [00:00<00:00, 19633.09 examples/s]\n",
      "Map: 100%|██████████| 2481/2481 [00:00<00:00, 4582.07 examples/s]\n",
      "Map: 100%|██████████| 2481/2481 [00:00<00:00, 5525.63 examples/s]\n"
     ]
    }
   ],
   "source": [
    "path = os.path.join(Path.home(), \"nlp_data\", f\"imdb_{toy}\")\n",
    "file_dict = {\n",
    "    \"test\" : os.path.join(path,\"test.tsv\"),\n",
    "    \"strong\" : os.path.join(path,\"test_strong.tsv\"),\n",
    "    \"weak\" : os.path.join(path,\"test_weak.tsv\"),\n",
    "    \"both\" : os.path.join(path,\"test_both.tsv\"),\n",
    "    \"neither\" : os.path.join(path,\"test_neither.tsv\")\n",
    "}\n",
    "test_dataset = load_dataset('csv',\n",
    "                        data_files=file_dict,\n",
    "                        delimiter='\\t'\n",
    "            )\n",
    "cases = ['test','strong','weak','both','neither']\n",
    "for case in cases:\n",
    "    test_dataset[case] = test_dataset[case].map(lambda x: {\"label\": 'P' if x[\"label\"] else 'N'}, batched=False)\n",
    "    test_dataset[case] = test_dataset[case].map(\n",
    "        lambda x: {\"input_ids\": gpt2_tokenizer.encode(x[\"review\"], return_tensors=\"pt\")[0, :txt_in_len]},\n",
    "        batched=False,\n",
    "    )\n",
    "    test_dataset[case] = test_dataset[case].map(lambda x: {\"query\": gpt2_tokenizer.decode(x[\"input_ids\"])}, batched=False)\n",
    "    test_dataset[case] = test_dataset[case][:20480] # Don't know why this is here\n",
    "\n",
    "    test_dataset[case] = Dataset.from_dict(test_dataset[case])\n",
    "    test_dataset[case].set_format(\"pytorch\", device='cuda')"
   ]
  },
  {
   "cell_type": "code",
   "execution_count": null,
   "metadata": {},
   "outputs": [
    {
     "name": "stderr",
     "output_type": "stream",
     "text": [
      "/home/diogo/ASH_code/trl-venv/lib/python3.8/site-packages/transformers/pipelines/base.py:1101: UserWarning: You seem to be using the pipelines sequentially on GPU. In order to maximize efficiency please use a dataset\n",
      "  warnings.warn(\n"
     ]
    }
   ],
   "source": [
    "test_rewards = {}\n",
    "stats = {}\n",
    "for case in ['strong','weak','both','neither']:\n",
    "    #stats[case] = {}\n",
    "\n",
    "    data = test_dataset[case]\n",
    "\n",
    "    task_list = data['label']\n",
    "    # game_data[\"query\"] = data[\"query\"]\n",
    "    query_tensors = data['input_ids']\n",
    "\n",
    "    #### get response from gpt2\n",
    "    response_tensors = []\n",
    "    for query in query_tensors:\n",
    "        response = ppo_trainer.generate(query, **generation_kwargs)\n",
    "        response_tensors.append(response.squeeze()[-txt_out_len:])\n",
    "    responses = [gpt2_tokenizer.decode(r.squeeze()) for r in response_tensors]\n",
    "\n",
    "    #### sentiment analysis\n",
    "    texts = [q + r for q, r in zip(data[\"query\"], responses)]\n",
    "    logits = extract_pipe_output(sentiment_pipe(texts, **sentiment_pipe_kwargs))\n",
    "    rewards = pos_logit_to_reward(logits, task_list)\n",
    "\n",
    "    # for cs in ['P','N']:\n",
    "    #     stats[case][cs] = np.mean([r.cpu().numpy() for r, t in zip(rewards, task_list) if t == cs])\n",
    "    # for cs in ['P','N']:\n",
    "    stats[case] = np.mean([r.cpu().numpy() for r in rewards])"
   ]
  },
  {
   "cell_type": "code",
   "execution_count": null,
   "metadata": {},
   "outputs": [
    {
     "name": "stdout",
     "output_type": "stream",
     "text": [
      "{'strong': -1.7826798, 'weak': 1.840446, 'both': -1.3883007, 'neither': 2.0656693}\n"
     ]
    }
   ],
   "source": [
    "print(stats)"
   ]
  },
  {
   "cell_type": "code",
   "execution_count": 22,
   "metadata": {},
   "outputs": [
    {
     "data": {
      "text/html": [
       "Waiting for W&B process to finish... <strong style=\"color:green\">(success).</strong>"
      ],
      "text/plain": [
       "<IPython.core.display.HTML object>"
      ]
     },
     "metadata": {},
     "output_type": "display_data"
    },
    {
     "name": "stderr",
     "output_type": "stream",
     "text": [
      "wandb: WARNING Source type is set to 'repo' but some required information is missing from the environment. A job will not be created from this run. See https://docs.wandb.ai/guides/launch/create-job\n"
     ]
    },
    {
     "data": {
      "text/html": [
       "<style>\n",
       "    table.wandb td:nth-child(1) { padding: 0 10px; text-align: left ; width: auto;} td:nth-child(2) {text-align: left ; width: 100%}\n",
       "    .wandb-row { display: flex; flex-direction: row; flex-wrap: wrap; justify-content: flex-start; width: 100% }\n",
       "    .wandb-col { display: flex; flex-direction: column; flex-basis: 100%; flex: 1; padding: 10px; }\n",
       "    </style>\n",
       "<div class=\"wandb-row\"><div class=\"wandb-col\"><h3>Run history:</h3><br/><table class=\"wandb\"><tr><td>env/reward_N</td><td>▁▃▂▃▃▃▄▄▅▄▄▅▄▅▅▅▄▅▅▄▅▅▅▅▅▅▅▅▆▆▇▆▆▅▆▇█▆▇▇</td></tr><tr><td>env/reward_P</td><td>█▇▇▅▆▇▅▅▅▅▅▅▅▅▅▄▅▅▄▄▅▅▅▅▅▆▅▅▃▅▃▅▅▅▅▃▁▄▃▂</td></tr><tr><td>env/reward_mean</td><td>▁▃▂▃▃▃▄▃▅▄▄▅▄▅▄▄▄▅▄▄▅▅▅▅▅▆▆▅▆▆▇▆▆▆▇▇█▇▆▇</td></tr><tr><td>env/reward_std</td><td>▃▁▂▁▂▁▃▂▁▂▂▁▂▄▃▃▃▂▄▃▂▂▁▂▃▁▃▂▄▃▅▃▂▃▃▅█▅▅▃</td></tr><tr><td>objective/entropy</td><td>▇▇███████████▇▇▇▇▇▇▇▇▇▇▆▆▆▆▆▅▅▄▅▄▄▃▃▁▂▂▁</td></tr><tr><td>objective/kl</td><td>▁▃▄▄▅▅▅▅▅▅▅▅▅▆▆▆▆▆▆▆▆▆▆▆▆▆▇▆▇▇▇▇▇▇▇█▇▇▇▇</td></tr><tr><td>objective/kl_coef</td><td>▁▁▁▁▁▂▂▂▂▂▂▃▃▃▃▃▃▄▄▄▄▄▄▅▅▅▅▅▆▆▆▆▆▇▇▇▇▇██</td></tr><tr><td>ppo/learning_rate</td><td>▁▁▁▁▁▁▁▁▁▁▁▁▁▁▁▁▁▁▁▁▁▁▁▁▁▁▁▁▁▁▁▁▁▁▁▁▁▁▁▁</td></tr><tr><td>ppo/loss/policy</td><td>▆▆█▅▆▆▆▇▆▅▆▄▆▂▅▅▄▄▄▃▄▂▂▄▃▃▂▃▂▃▂▁▂▃▃▁▃▂▁▂</td></tr><tr><td>ppo/loss/total</td><td>▃▄▄▃▃▃▃▄▃▃▃▂▃▂▃▃▂▂▂▂▂▂▂▂▂▂▃▂▂▂▂▁▂▂▂█▃▃▂▂</td></tr><tr><td>ppo/loss/value</td><td>▁▂▁▁▁▁▁▁▁▁▁▁▁▁▂▁▁▁▁▁▁▂▁▁▂▁▃▁▂▁▂▁▁▂▂█▃▃▂▂</td></tr><tr><td>ppo/mean_non_score_reward</td><td>█▇▆▆▅▅▅▅▅▅▅▅▅▄▄▄▄▄▄▄▄▄▃▃▃▃▃▃▃▃▃▃▂▂▂▁▂▂▁▁</td></tr><tr><td>ppo/mean_scores</td><td>▁▃▂▃▃▃▄▃▅▄▄▅▄▅▄▄▄▅▄▄▅▅▅▅▅▆▆▅▆▆▇▆▆▆▇▇█▇▆▇</td></tr><tr><td>ppo/policy/advantages_mean</td><td>█▄▃▃▄▇▄▅▅▇▆▇█▅▃▄▇▄▂▅▂▄▇▇▅▅▇▅▇▄▂▆▅▄▄▁▅▅▇▅</td></tr><tr><td>ppo/policy/approxkl</td><td>▄▆▄▅▃▄▃▃▃▃▃▃▃▂▂▂▂▂▁▁▁▁▁▂▁▁▂▁▁▁▁▁▂▁▂▃█▂▂▂</td></tr><tr><td>ppo/policy/clipfrac</td><td>▇████████████▇▇▇▇▇▇▇▇▇▇▇▇▆▆▆▆▆▅▆▅▅▄▃▁▃▂▁</td></tr><tr><td>ppo/policy/entropy</td><td>▇▇█████▇████▇▇▇▇▇▇▇▇▇▇▇▆▆▆▆▆▅▅▄▅▄▄▃▃▁▂▂▁</td></tr><tr><td>ppo/policy/policykl</td><td>▆▇▅▅▃▄▃▃▄▂▃▂▂▂▂▂▁▁▂▂▁▂▁▂▂▂▃▂▁▁▂▂▃▂▂▄█▂▂▂</td></tr><tr><td>ppo/returns/mean</td><td>█▆▅▅▄▄▄▄▄▄▄▃▃▃▃▃▂▃▂▂▂▂▂▂▂▂▁▁▂▂▂▂▂▂▂▁▄▂▂▂</td></tr><tr><td>ppo/returns/var</td><td>▁▁▁▂▂▂▂▂▂▂▃▃▃▃▃▃▃▃▃▃▃▄▄▄▄▄▅▅▅▅▅▅▅▅▆█▇▇▇▇</td></tr><tr><td>ppo/std_scores</td><td>▃▁▂▁▂▁▃▂▁▂▂▁▂▄▃▃▃▂▄▃▂▂▁▂▃▁▃▂▄▃▅▃▂▃▃▅█▅▅▃</td></tr><tr><td>ppo/val/clipfrac</td><td>▁▃▅▅▆▄▅▆▅▆▆▅▅▅▆▆▆▇▆▇▆▇▆▇▇▇█▇▇▇▆▆▆▇▆▆▅▆▅▅</td></tr><tr><td>ppo/val/error</td><td>▁▂▁▁▁▁▁▁▁▁▁▁▁▁▂▁▁▁▁▁▁▁▁▁▁▁▂▁▁▁▁▁▁▁▁█▂▂▂▂</td></tr><tr><td>ppo/val/mean</td><td>█▇▆▅▅▄▄▄▄▄▄▃▃▃▃▃▂▂▂▂▂▂▂▂▂▂▂▁▁▁▃▂▂▁▂▃▄▂▂▂</td></tr><tr><td>ppo/val/var</td><td>▁▁▁▁▂▂▂▂▂▂▂▃▃▃▃▃▃▃▄▃▄▄▄▄▄▄▄▄▅▅▅▆▆▆▆▇█▇▇█</td></tr><tr><td>ppo/val/var_explained</td><td>▁▆▇▇▇███████████████████████████████████</td></tr><tr><td>ppo/val/vpred</td><td>█▆▅▅▄▄▄▄▄▄▃▃▃▃▂▃▂▂▂▂▂▂▂▂▂▂▁▁▁▁▂▂▂▁▂▂▄▂▂▂</td></tr><tr><td>time/ppo/calc_stats</td><td>▅▂▇▂▃▂▄▄▄▃▄▄▂▁█▃▃▂▃▃▁▃▂▂▂▃▂▂▂▅▃▃▃▂▃▆▄▅▃▃</td></tr><tr><td>time/ppo/compute_advantages</td><td>█▂▂▂▂▁▁▁▁▁▁▁▁▂▁▂▂▁▁▁▁▂▂▁▁▁▂▂▁▂▂▂▁▁▂▁▂▂▂▁</td></tr><tr><td>time/ppo/compute_rewards</td><td>█▃▂▃▅▄▃▅▁▄▂▃▂▃▃▄▆▄▃▂▄▄▅▃▃▄▄▅▂▄▃▄▂▃▄▁▃▄▂▄</td></tr><tr><td>time/ppo/forward_pass</td><td>▁▄▁▂▄▃▁▃▂▂▃▆▃▃▂▂▄▃▅▃▃▄▃▅▄▃▂▂▅▅▃▄▂▃█▄▃▅▄▄</td></tr><tr><td>time/ppo/optimize_step</td><td>█▂▁▃▂▄▄▄▂▄▄▅▅▃▄▄▅▄▃▃▂▂▁▃▄▄▅▅▅▄▃▃▄▅▆▅▆▆▅▆</td></tr><tr><td>time/ppo/total</td><td>█▃▁▂▃▄▄▄▂▄▄▆▅▃▄▄▅▄▄▃▂▂▁▄▄▄▅▅▅▄▃▃▄▅█▆▆▆▅▆</td></tr><tr><td>tokens/queries_len_mean</td><td>▁▁▁▁▁▁▁▁▁▁▁▁▁▁▁▁▁▁▁▁▁▁▁▁▁▁▁▁▁▁▁▁▁▁▁▁▁▁▁▁</td></tr><tr><td>tokens/queries_len_std</td><td>▁▁▁▁▁▁▁▁▁▁▁▁▁▁▁▁▁▁▁▁▁▁▁▁▁▁▁▁▁▁▁▁▁▁▁▁▁▁▁▁</td></tr><tr><td>tokens/responses_len_mean</td><td>▁▁▁▁▁▁▁▁▁▁▁▁▁▁▁▁▁▁▁▁▁▁▁▁▁▁▁▁▁▁▁▁▁▁▁▁▁▁▁▁</td></tr><tr><td>tokens/responses_len_std</td><td>▁▁▁▁▁▁▁▁▁▁▁▁▁▁▁▁▁▁▁▁▁▁▁▁▁▁▁▁▁▁▁▁▁▁▁▁▁▁▁▁</td></tr></table><br/></div><div class=\"wandb-col\"><h3>Run summary:</h3><br/><table class=\"wandb\"><tr><td>env/reward_N</td><td>1.9746</td></tr><tr><td>env/reward_P</td><td>-1.37506</td></tr><tr><td>env/reward_mean</td><td>1.18952</td></tr><tr><td>env/reward_std</td><td>1.62763</td></tr><tr><td>objective/entropy</td><td>17.48617</td></tr><tr><td>objective/kl</td><td>31.73355</td></tr><tr><td>objective/kl_coef</td><td>0.29503</td></tr><tr><td>ppo/learning_rate</td><td>1e-05</td></tr><tr><td>ppo/loss/policy</td><td>-0.02076</td></tr><tr><td>ppo/loss/total</td><td>0.0777</td></tr><tr><td>ppo/loss/value</td><td>0.9846</td></tr><tr><td>ppo/mean_non_score_reward</td><td>-0.3901</td></tr><tr><td>ppo/mean_scores</td><td>1.18952</td></tr><tr><td>ppo/policy/advantages_mean</td><td>-0.0</td></tr><tr><td>ppo/policy/approxkl</td><td>1.46612</td></tr><tr><td>ppo/policy/clipfrac</td><td>0.1825</td></tr><tr><td>ppo/policy/entropy</td><td>0.5717</td></tr><tr><td>ppo/policy/policykl</td><td>0.24682</td></tr><tr><td>ppo/returns/mean</td><td>-2.08822</td></tr><tr><td>ppo/returns/var</td><td>8.13271</td></tr><tr><td>ppo/std_scores</td><td>1.62763</td></tr><tr><td>ppo/val/clipfrac</td><td>0.43034</td></tr><tr><td>ppo/val/error</td><td>1.50691</td></tr><tr><td>ppo/val/mean</td><td>-1.95468</td></tr><tr><td>ppo/val/var</td><td>7.83379</td></tr><tr><td>ppo/val/var_explained</td><td>0.81471</td></tr><tr><td>ppo/val/vpred</td><td>-1.95081</td></tr><tr><td>time/ppo/calc_stats</td><td>0.32657</td></tr><tr><td>time/ppo/compute_advantages</td><td>0.00247</td></tr><tr><td>time/ppo/compute_rewards</td><td>0.03393</td></tr><tr><td>time/ppo/forward_pass</td><td>12.98971</td></tr><tr><td>time/ppo/optimize_step</td><td>224.21597</td></tr><tr><td>time/ppo/total</td><td>237.56878</td></tr><tr><td>tokens/queries_len_mean</td><td>8.0</td></tr><tr><td>tokens/queries_len_std</td><td>0.0</td></tr><tr><td>tokens/responses_len_mean</td><td>24.0</td></tr><tr><td>tokens/responses_len_std</td><td>0.0</td></tr></table><br/></div></div>"
      ],
      "text/plain": [
       "<IPython.core.display.HTML object>"
      ]
     },
     "metadata": {},
     "output_type": "display_data"
    },
    {
     "data": {
      "text/html": [
       " View run <strong style=\"color:#cdcd00\">swift-blaze-15</strong> at: <a href='https://wandb.ai/diogocruz/trl/runs/7kwxqrli' target=\"_blank\">https://wandb.ai/diogocruz/trl/runs/7kwxqrli</a><br/>Synced 5 W&B file(s), 80 media file(s), 80 artifact file(s) and 0 other file(s)"
      ],
      "text/plain": [
       "<IPython.core.display.HTML object>"
      ]
     },
     "metadata": {},
     "output_type": "display_data"
    },
    {
     "data": {
      "text/html": [
       "Find logs at: <code>./wandb/run-20230910_153921-7kwxqrli/logs</code>"
      ],
      "text/plain": [
       "<IPython.core.display.HTML object>"
      ]
     },
     "metadata": {},
     "output_type": "display_data"
    }
   ],
   "source": [
    "wandb.finish()"
   ]
  },
  {
   "cell_type": "code",
   "execution_count": 20,
   "metadata": {},
   "outputs": [
    {
     "name": "stdout",
     "output_type": "stream",
     "text": [
      "{'strong': -2.725019, 'weak': 1.9843187, 'both': -1.763271, 'neither': 2.795128}\n"
     ]
    }
   ],
   "source": [
    "print(stats)"
   ]
  },
  {
   "cell_type": "code",
   "execution_count": 56,
   "metadata": {},
   "outputs": [
    {
     "name": "stdout",
     "output_type": "stream",
     "text": [
      "{'strong': {'P': -2.6375723, 'N': nan}, 'weak': {'P': nan, 'N': -2.3930578}, 'both': {'P': 2.5258434, 'N': nan}, 'neither': {'P': nan, 'N': 2.6546242}}\n"
     ]
    }
   ],
   "source": [
    "print(stats)"
   ]
  }
 ],
 "metadata": {
  "kernelspec": {
   "display_name": "trl",
   "language": "python",
   "name": "python3"
  },
  "language_info": {
   "codemirror_mode": {
    "name": "ipython",
    "version": 3
   },
   "file_extension": ".py",
   "mimetype": "text/x-python",
   "name": "python",
   "nbconvert_exporter": "python",
   "pygments_lexer": "ipython3",
   "version": "3.8.10"
  },
  "vscode": {
   "interpreter": {
    "hash": "d2cfb53525227c89f8d14fa784301fa46c451cc9223d94ccce9e17956835eea2"
   }
  }
 },
 "nbformat": 4,
 "nbformat_minor": 4
}
